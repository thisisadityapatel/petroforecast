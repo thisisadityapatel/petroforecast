{
 "cells": [
  {
   "cell_type": "code",
   "execution_count": 71,
   "metadata": {},
   "outputs": [],
   "source": [
    "import pandas as pd\n",
    "import numpy as np\n",
    "import matplotlib.pyplot as plt\n",
    "from sklearn.model_selection import train_test_split\n",
    "from sklearn.linear_model import LinearRegression\n",
    "from sklearn.metrics import mean_squared_error, mean_absolute_error\n",
    "from sklearn import preprocessing\n",
    "import pickle\n",
    "import pickle as pk"
   ]
  },
  {
   "cell_type": "code",
   "execution_count": 69,
   "metadata": {},
   "outputs": [],
   "source": [
    "def load_house_data():\n",
    "    df = pd.read_csv(\"data.csv\")\n",
    "    df.head() \n",
    "    df.drop('Date', inplace = True,axis=1)\n",
    "    X = df.drop('Price',axis= 1)\n",
    "    y = df['Price']\n",
    "    return X, y"
   ]
  },
  {
   "cell_type": "code",
   "execution_count": 73,
   "metadata": {},
   "outputs": [],
   "source": [
    "df = pd.read_csv(\"data.csv\")\n",
    "df.drop('Date', inplace = True,axis=1)\n",
    "df.drop('Change %', inplace = True,axis=1)\n",
    "df = df.dropna(axis= 0, how='any')\n",
    "df['Vol.'] = df['Vol.'].str.replace('K', '').astype(float)\n",
    "\n",
    "y = df['Price']\n",
    "\n",
    "X_train, X_test, y_train, y_test = train_test_split(X, y, test_size=0.3, random_state=101)\n",
    "\n",
    "model = LinearRegression()\n",
    "model.fit(X_train,y_train)\n",
    "# testing = pd.DataFrame({'Open':[1.2],\n",
    "#                     'High':[1.3],\n",
    "#                     'Low':[0.7],\n",
    "#                     'Vol.': [1.2]})\n",
    "# print(testing)\n",
    "# prediction = model.predict(testing)\n",
    "# print(prediction)\n",
    "\n",
    "#loading the model into pickel\n",
    "pickle.dump(model, open(\"heating_oil_model.pkl\", \"wb\"))"
   ]
  },
  {
   "cell_type": "code",
   "execution_count": 75,
   "metadata": {},
   "outputs": [
    {
     "name": "stdout",
     "output_type": "stream",
     "text": [
      "The result is 0.8732679776502656\n"
     ]
    }
   ],
   "source": [
    "importmodel = pickle.load(open(\"heating_oil_model.pkl\", \"rb\"))\n",
    "\n",
    "# Now, to make use of the model as you normally would\n",
    "testing = pd.DataFrame({'Open':[1.2], 'High':[1.3], 'Low':[0.7], 'Vol.': [1.2]})\n",
    "result = importmodel.predict(testing)\n",
    "print(\"The result is\", result[0])"
   ]
  }
 ],
 "metadata": {
  "kernelspec": {
   "display_name": "Python 3",
   "language": "python",
   "name": "python3"
  },
  "language_info": {
   "codemirror_mode": {
    "name": "ipython",
    "version": 3
   },
   "file_extension": ".py",
   "mimetype": "text/x-python",
   "name": "python",
   "nbconvert_exporter": "python",
   "pygments_lexer": "ipython3",
   "version": "3.9.6"
  },
  "orig_nbformat": 4
 },
 "nbformat": 4,
 "nbformat_minor": 2
}
