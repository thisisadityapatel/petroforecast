{
 "cells": [
  {
   "cell_type": "code",
   "execution_count": 9,
   "metadata": {},
   "outputs": [],
   "source": [
    "import pandas as pd\n",
    "import matplotlib.pyplot as plt\n",
    "from sklearn.model_selection import train_test_split\n",
    "from sklearn.linear_model import LinearRegression\n",
    "from sklearn.metrics import mean_squared_error, mean_absolute_error\n",
    "from sklearn import preprocessing\n",
    "import pickle as pk"
   ]
  },
  {
   "cell_type": "code",
   "execution_count": 10,
   "metadata": {},
   "outputs": [],
   "source": [
    "def load_house_data():\n",
    "    df = pd.read_csv(\"data.csv\")\n",
    "    df.drop('Date', inplace = True,axis=1)\n",
    "    df.drop('Change %', inplace = True,axis=1)\n",
    "    df = df.dropna(axis= 0, how='any')\n",
    "    df['Vol'] = df['Vol'].str.replace('K', '').astype(float)\n",
    "    X = df.drop('Price',axis= 1)\n",
    "    y = df['Price']\n",
    "    return X, y"
   ]
  },
  {
   "cell_type": "code",
   "execution_count": 11,
   "metadata": {},
   "outputs": [],
   "source": [
    "X, y = load_house_data()\n",
    "X_train, X_test, y_train, y_test = train_test_split(X, y, test_size=0.3, random_state=101)\n",
    "model = LinearRegression()\n",
    "model.fit(X_train,y_train)\n",
    "pk.dump(model, open(\"heating_oil_model.pkl\", \"wb\"))"
   ]
  },
  {
   "cell_type": "code",
   "execution_count": 12,
   "metadata": {},
   "outputs": [
    {
     "name": "stdout",
     "output_type": "stream",
     "text": [
      "prediction:  0.8146431520048044\n"
     ]
    }
   ],
   "source": [
    "# sample prediction\n",
    "heating_oil_model = pk.load(open(\"heating_oil_model.pkl\", \"rb\"))\n",
    "testing = pd.DataFrame({'Open':[1.2], 'High':[1.3], 'Low':[0.7], 'Vol': [0.98]})\n",
    "result = heating_oil_model.predict(testing)\n",
    "print(\"prediction: \", result[0])\n"
   ]
  }
 ],
 "metadata": {
  "kernelspec": {
   "display_name": "Python 3",
   "language": "python",
   "name": "python3"
  },
  "language_info": {
   "codemirror_mode": {
    "name": "ipython",
    "version": 3
   },
   "file_extension": ".py",
   "mimetype": "text/x-python",
   "name": "python",
   "nbconvert_exporter": "python",
   "pygments_lexer": "ipython3",
   "version": "3.9.6"
  },
  "orig_nbformat": 4
 },
 "nbformat": 4,
 "nbformat_minor": 2
}
