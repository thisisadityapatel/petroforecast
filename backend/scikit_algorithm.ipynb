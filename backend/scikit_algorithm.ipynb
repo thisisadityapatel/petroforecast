{
 "cells": [
  {
   "cell_type": "code",
   "execution_count": 24,
   "metadata": {},
   "outputs": [],
   "source": [
    "import pandas as pd\n",
    "import numpy as np\n",
    "import matplotlib.pyplot as plt\n",
    "from sklearn.model_selection import train_test_split\n",
    "from sklearn.linear_model import LinearRegression, \n",
    "from sklearn.metrics import mean_squared_error, mean_absolute_error\n",
    "from sklearn import preprocessing"
   ]
  },
  {
   "cell_type": "code",
   "execution_count": 21,
   "metadata": {},
   "outputs": [],
   "source": [
    "def load_house_data():\n",
    "    df = pd.read_csv(\"data.csv\")\n",
    "    df.head() \n",
    "    df.drop('Date', inplace = True,axis=1)\n",
    "    X = df.drop('Price',axis= 1)\n",
    "    y = df['Price']\n",
    "    return X, y"
   ]
  },
  {
   "cell_type": "code",
   "execution_count": 49,
   "metadata": {},
   "outputs": [
    {
     "name": "stdout",
     "output_type": "stream",
     "text": [
      "        Open    High     Low   Vol.\n",
      "3837  0.4740  0.4880  0.4785   9.29\n",
      "630   2.0215  2.0518  2.0075  15.12\n",
      "4714  0.5630  0.5650  0.5460  14.09\n",
      "2636  0.4208  0.4375  0.4180   6.82\n",
      "248   1.4200  1.4490  1.3950  25.14\n",
      "...      ...     ...     ...    ...\n",
      "4823  0.8965  0.9166  0.8950   6.71\n",
      "454   2.7527  2.8333  2.7245  42.61\n",
      "4969  0.5702  0.5770  0.5680   9.70\n",
      "2751  0.3350  0.3410  0.3300  15.89\n",
      "2252  0.8830  0.9130  0.8790  10.96\n",
      "\n",
      "[1497 rows x 4 columns]\n",
      "[0.49 2.03 0.55 ... 0.57 0.34 0.9 ]\n",
      "3837    0.4854\n",
      "630     2.0452\n",
      "4714    0.5535\n",
      "2636    0.4314\n",
      "248     1.4164\n",
      "         ...  \n",
      "4823    0.9166\n",
      "454     2.8228\n",
      "4969    0.5698\n",
      "2751    0.3347\n",
      "2252    0.8848\n",
      "Name: Price, Length: 1497, dtype: float64\n"
     ]
    }
   ],
   "source": [
    "df = pd.read_csv(\"data.csv\")\n",
    "df.drop('Date', inplace = True,axis=1)\n",
    "df.drop('Change %', inplace = True,axis=1)\n",
    "df = df.dropna(axis= 0, how='any')\n",
    "df['Vol.'] = df['Vol.'].str.replace('K', '').astype(float)\n",
    "\n",
    "X = df.drop('Price',axis= 1)\n",
    "y = df['Price']\n",
    "\n",
    "X_train, X_test, y_train, y_test = train_test_split(X, y, test_size=0.3, random_state=101)\n",
    "\n",
    "model = LinearRegression()\n",
    "model.fit(X_train,y_train)\n",
    "print(X_test)\n",
    "predictions = model.predict(X_test)\n",
    "print(predictions)\n",
    "print(y_test)"
   ]
  }
 ],
 "metadata": {
  "kernelspec": {
   "display_name": "Python 3",
   "language": "python",
   "name": "python3"
  },
  "language_info": {
   "codemirror_mode": {
    "name": "ipython",
    "version": 3
   },
   "file_extension": ".py",
   "mimetype": "text/x-python",
   "name": "python",
   "nbconvert_exporter": "python",
   "pygments_lexer": "ipython3",
   "version": "3.9.6"
  },
  "orig_nbformat": 4
 },
 "nbformat": 4,
 "nbformat_minor": 2
}
